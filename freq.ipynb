{
 "cells": [
  {
   "cell_type": "code",
   "execution_count": 5,
   "metadata": {},
   "outputs": [],
   "source": [
    "import pandas as pd\n",
    "import numpy as np\n",
    "\n",
    "from itertools import product"
   ]
  },
  {
   "cell_type": "code",
   "execution_count": 7,
   "metadata": {},
   "outputs": [
    {
     "name": "stdout",
     "output_type": "stream",
     "text": [
      "['Male' 'Young' 'Mustache' 'No_Beard' 'Bald']\n",
      "[[0 0 1 ... 0 0 0]\n",
      " [0 1 0 ... 0 0 0]\n",
      " [1 0 0 ... 0 0 0]\n",
      " [1 1 1 ... 1 0 1]\n",
      " [0 0 0 ... 0 0 0]]\n"
     ]
    },
    {
     "data": {
      "text/plain": [
       "array([0.093, 0.002, 0.378, 0.118, 0.   , 0.   , 0.208, 0.001, 0.025,\n",
       "       0.   , 0.034, 0.045, 0.   , 0.   , 0.027, 0.   , 0.001, 0.   ,\n",
       "       0.067, 0.   , 0.   , 0.   , 0.001, 0.   , 0.   , 0.   , 0.   ,\n",
       "       0.   , 0.   , 0.   , 0.   , 0.   ])"
      ]
     },
     "execution_count": 7,
     "metadata": {},
     "output_type": "execute_result"
    }
   ],
   "source": [
    "res = np.load(\"./res_list.npy\")\n",
    "\n",
    "att_name = np.array([\"Bald\",\n",
    "\"Bangs\",\n",
    "\"Black_Hair\",\n",
    "\"Blond_Hair\",\n",
    "\"Brown_Hair\",\n",
    "\"Bushy_Eyebrows\",\n",
    "\"Eyeglasses\",\n",
    "\"Male\",\n",
    "\"Mouth_Slightly_Open\",\n",
    "\"Mustache\",\n",
    "\"No_Beard\",\n",
    "\"Pale_Skin\",\n",
    "\"Young\"])\n",
    "att_name_list = np.array([7,12,9,10,0])\n",
    "print(att_name[att_name_list])\n",
    "\n",
    "res = res.squeeze()\n",
    "data = []\n",
    "for i in range(att_name_list.shape[0]):\n",
    "    if(att_name[att_name_list[i]] == \"No_Beard\"):\n",
    "        data.append(-1*res[:,i])\n",
    "    else:\n",
    "        data.append(res[:,i])\n",
    "data = np.array(data).astype(int)\n",
    "data = np.maximum(data, 0)\n",
    "print(data)\n",
    "\n",
    "perm_array = np.array(list(product([0, 1], repeat=5)))\n",
    "prob_array = []\n",
    "\n",
    "for arr in perm_array:\n",
    "    p = ((data.T == arr).sum(axis=1) == 5).mean()\n",
    "    prob_array.append(p)\n",
    "\n",
    "prob_array = np.array(prob_array)\n",
    "prob_array"
   ]
  },
  {
   "cell_type": "code",
   "execution_count": 8,
   "metadata": {},
   "outputs": [
    {
     "name": "stdout",
     "output_type": "stream",
     "text": [
      "0:Male, 1:Young, 2: Mustache, 3:Beard, 4:Bald\n",
      "[ 84434 156734   8417  33441   4547]\n",
      "[[0 0 1 ... 1 0 0]\n",
      " [1 1 1 ... 1 1 1]\n",
      " [0 0 0 ... 0 0 0]\n",
      " [0 0 0 ... 0 0 0]\n",
      " [0 0 0 ... 0 0 0]]\n"
     ]
    }
   ],
   "source": [
    "\n",
    "\n",
    "dataset = pd.read_csv(\"list_attr_celeba.txt\", sep = ' ', header=1, skiprows = 0)\n",
    "\n",
    "data = np.vstack((dataset['Male'], dataset[\"Young\"], dataset[\"Mustache\"], (-dataset[\"No_Beard\"]),\\\n",
    "                                                                dataset[\"Bald\"]))\n",
    "\n",
    "# np.where(data > 0, data, 0)\n",
    "data=np.maximum(data, 0)\n",
    "print(\"0:Male, 1:Young, 2: Mustache, 3:Beard, 4:Bald\")\n",
    "print(data.sum(axis=1))\n",
    "print(data)"
   ]
  },
  {
   "cell_type": "code",
   "execution_count": 9,
   "metadata": {},
   "outputs": [],
   "source": [
    "perm_array = np.array(list(product([0, 1], repeat=5)))"
   ]
  },
  {
   "cell_type": "code",
   "execution_count": 11,
   "metadata": {},
   "outputs": [
    {
     "data": {
      "text/plain": [
       "array([7.32037177e-02, 1.97434341e-05, 2.02370199e-04, 0.00000000e+00,\n",
       "       4.93585852e-06, 0.00000000e+00, 4.93585852e-06, 0.00000000e+00,\n",
       "       5.09262139e-01, 6.41661607e-05, 4.78778276e-04, 0.00000000e+00,\n",
       "       4.93585852e-06, 0.00000000e+00, 0.00000000e+00, 0.00000000e+00,\n",
       "       8.62985503e-02, 1.04344049e-02, 3.10317425e-02, 4.33861964e-03,\n",
       "       5.57752013e-04, 6.91020193e-05, 1.78332568e-02, 2.38401966e-03,\n",
       "       1.52745078e-01, 1.75222977e-03, 8.60764367e-02, 2.54690300e-03,\n",
       "       4.83714135e-04, 3.94868681e-05, 1.93683088e-02, 7.94673221e-04])"
      ]
     },
     "execution_count": 11,
     "metadata": {},
     "output_type": "execute_result"
    }
   ],
   "source": [
    "prob_array_ori = []\n",
    "\n",
    "for arr in perm_array:\n",
    "    p = ((data.T == arr).sum(axis=1) == 5).mean()\n",
    "    prob_array_ori.append(p)\n",
    "\n",
    "prob_array_ori = np.array(prob_array_ori)\n",
    "prob_array_ori"
   ]
  },
  {
   "cell_type": "code",
   "execution_count": 12,
   "metadata": {},
   "outputs": [
    {
     "data": {
      "text/plain": [
       "0.12232304681835182"
      ]
     },
     "execution_count": 12,
     "metadata": {},
     "output_type": "execute_result"
    }
   ],
   "source": [
    "(((prob_array_ori-prob_array)**2).mean())**0.5"
   ]
  },
  {
   "cell_type": "code",
   "execution_count": 47,
   "metadata": {},
   "outputs": [
    {
     "data": {
      "text/plain": [
       "array([[0, 0, 0, 0, 0],\n",
       "       [0, 0, 0, 0, 1],\n",
       "       [0, 0, 0, 1, 0],\n",
       "       [0, 0, 0, 1, 1],\n",
       "       [0, 0, 1, 0, 0],\n",
       "       [0, 0, 1, 0, 1],\n",
       "       [0, 0, 1, 1, 0],\n",
       "       [0, 0, 1, 1, 1],\n",
       "       [0, 1, 0, 0, 0],\n",
       "       [0, 1, 0, 0, 1],\n",
       "       [0, 1, 0, 1, 0],\n",
       "       [0, 1, 0, 1, 1],\n",
       "       [0, 1, 1, 0, 0],\n",
       "       [0, 1, 1, 0, 1],\n",
       "       [0, 1, 1, 1, 0],\n",
       "       [0, 1, 1, 1, 1],\n",
       "       [1, 0, 0, 0, 0],\n",
       "       [1, 0, 0, 0, 1],\n",
       "       [1, 0, 0, 1, 0],\n",
       "       [1, 0, 0, 1, 1],\n",
       "       [1, 0, 1, 0, 0],\n",
       "       [1, 0, 1, 0, 1],\n",
       "       [1, 0, 1, 1, 0],\n",
       "       [1, 0, 1, 1, 1],\n",
       "       [1, 1, 0, 0, 0],\n",
       "       [1, 1, 0, 0, 1],\n",
       "       [1, 1, 0, 1, 0],\n",
       "       [1, 1, 0, 1, 1],\n",
       "       [1, 1, 1, 0, 0],\n",
       "       [1, 1, 1, 0, 1],\n",
       "       [1, 1, 1, 1, 0],\n",
       "       [1, 1, 1, 1, 1]])"
      ]
     },
     "execution_count": 47,
     "metadata": {},
     "output_type": "execute_result"
    }
   ],
   "source": [
    "perm_array"
   ]
  },
  {
   "cell_type": "code",
   "execution_count": null,
   "metadata": {},
   "outputs": [],
   "source": []
  },
  {
   "cell_type": "code",
   "execution_count": null,
   "metadata": {},
   "outputs": [],
   "source": []
  }
 ],
 "metadata": {
  "kernelspec": {
   "display_name": "Python 3",
   "language": "python",
   "name": "python3"
  },
  "language_info": {
   "codemirror_mode": {
    "name": "ipython",
    "version": 3
   },
   "file_extension": ".py",
   "mimetype": "text/x-python",
   "name": "python",
   "nbconvert_exporter": "python",
   "pygments_lexer": "ipython3",
   "version": "3.8.3"
  },
  "varInspector": {
   "cols": {
    "lenName": 16,
    "lenType": 16,
    "lenVar": 40
   },
   "kernels_config": {
    "python": {
     "delete_cmd_postfix": "",
     "delete_cmd_prefix": "del ",
     "library": "var_list.py",
     "varRefreshCmd": "print(var_dic_list())"
    },
    "r": {
     "delete_cmd_postfix": ") ",
     "delete_cmd_prefix": "rm(",
     "library": "var_list.r",
     "varRefreshCmd": "cat(var_dic_list()) "
    }
   },
   "types_to_exclude": [
    "module",
    "function",
    "builtin_function_or_method",
    "instance",
    "_Feature"
   ],
   "window_display": false
  }
 },
 "nbformat": 4,
 "nbformat_minor": 2
}
